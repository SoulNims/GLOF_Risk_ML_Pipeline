{
 "cells": [
  {
   "cell_type": "markdown",
   "id": "1468f474-7073-4a77-87d6-4cad41d8e26f",
   "metadata": {},
   "source": [
    "# Model Deployment\n"
   ]
  },
  {
   "cell_type": "markdown",
   "id": "638307f6-fa00-448b-a1bf-ceb27729a908",
   "metadata": {},
   "source": [
    "### Checking and Exporting Dependencies"
   ]
  },
  {
   "cell_type": "code",
   "execution_count": 4,
   "id": "72cc6241-2739-442d-b637-c7a93ae848b2",
   "metadata": {},
   "outputs": [
    {
     "name": "stdout",
     "output_type": "stream",
     "text": [
      "Python: 3.13.5 | packaged by Anaconda, Inc. | (main, Jun 12 2025, 11:23:37) [Clang 14.0.6 ]\n",
      "scikit-learn: 1.6.1\n",
      "pandas: 2.2.3\n",
      "numpy: 2.1.3\n",
      "miceforest: 6.0.3\n",
      "folium: 0.20.0\n",
      "streamlit: 1.45.1\n"
     ]
    }
   ],
   "source": [
    "import sys, sklearn, pandas, numpy, miceforest, folium, streamlit\n",
    "\n",
    "print(\"Python:\", sys.version)\n",
    "print(\"scikit-learn:\", sklearn.__version__)\n",
    "print(\"pandas:\", pandas.__version__)\n",
    "print(\"numpy:\", numpy.__version__)\n",
    "print(\"miceforest:\", miceforest.__version__)\n",
    "print(\"folium:\", folium.__version__)\n",
    "print(\"streamlit:\", streamlit.__version__)\n",
    "\n"
   ]
  },
  {
   "cell_type": "markdown",
   "id": "949f8973-168b-4160-8f02-22a161c9a1fc",
   "metadata": {},
   "source": [
    "Create requirements.txt for deployment"
   ]
  },
  {
   "cell_type": "code",
   "execution_count": 13,
   "id": "6c0b2305-f044-424b-8b90-1c6133779ec4",
   "metadata": {},
   "outputs": [
    {
     "name": "stdout",
     "output_type": "stream",
     "text": [
      "Overwriting ../requirements.txt\n"
     ]
    }
   ],
   "source": [
    "%%writefile ../requirements.txt\n",
    "Python: 3.13.5 | packaged by Anaconda, Inc. | (main, Jun 12 2025, 11:23:37) [Clang 14.0.6 ]\n",
    "scikit-learn: 1.6.1\n",
    "pandas: 2.2.3\n",
    "numpy: 2.1.3\n",
    "miceforest: 6.0.3\n",
    "folium: 0.20.0\n",
    "streamlit: 1.45.1\n"
   ]
  },
  {
   "cell_type": "code",
   "execution_count": null,
   "id": "f9d0eff4-412e-4b9c-8c0a-b568e238dfcb",
   "metadata": {},
   "outputs": [],
   "source": []
  }
 ],
 "metadata": {
  "kernelspec": {
   "display_name": "Python 3 (ipykernel)",
   "language": "python",
   "name": "python3"
  },
  "language_info": {
   "codemirror_mode": {
    "name": "ipython",
    "version": 3
   },
   "file_extension": ".py",
   "mimetype": "text/x-python",
   "name": "python",
   "nbconvert_exporter": "python",
   "pygments_lexer": "ipython3",
   "version": "3.13.5"
  }
 },
 "nbformat": 4,
 "nbformat_minor": 5
}
